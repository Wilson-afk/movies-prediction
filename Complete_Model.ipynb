{
 "cells": [
  {
   "cell_type": "code",
   "execution_count": 43,
   "id": "e6fe18d2",
   "metadata": {},
   "outputs": [
    {
     "name": "stdout",
     "output_type": "stream",
     "text": [
      "3.7.3 (default, Mar 27 2019, 22:11:17) \n",
      "[GCC 7.3.0]\n"
     ]
    }
   ],
   "source": [
    "#Python version\n",
    "import sys\n",
    "print(sys.version)\n",
    "\n",
    "#Importing libraries\n",
    "import numpy as np\n",
    "import pandas as pd\n",
    "import seaborn as sns \n",
    "import matplotlib.pyplot as plt\n",
    "%matplotlib inline \n",
    "from sklearn.preprocessing import LabelEncoder \n",
    "import warnings\n",
    "warnings.filterwarnings(\"ignore\")\n",
    "from sklearn.model_selection import train_test_split"
   ]
  },
  {
   "cell_type": "code",
   "execution_count": 44,
   "id": "5b4a533e",
   "metadata": {},
   "outputs": [
    {
     "data": {
      "text/html": [
       "<div>\n",
       "<style scoped>\n",
       "    .dataframe tbody tr th:only-of-type {\n",
       "        vertical-align: middle;\n",
       "    }\n",
       "\n",
       "    .dataframe tbody tr th {\n",
       "        vertical-align: top;\n",
       "    }\n",
       "\n",
       "    .dataframe thead th {\n",
       "        text-align: right;\n",
       "    }\n",
       "</style>\n",
       "<table border=\"1\" class=\"dataframe\">\n",
       "  <thead>\n",
       "    <tr style=\"text-align: right;\">\n",
       "      <th></th>\n",
       "      <th>id</th>\n",
       "      <th>belongs_to_collection</th>\n",
       "      <th>budget</th>\n",
       "      <th>genres</th>\n",
       "      <th>homepage</th>\n",
       "      <th>imdb_id</th>\n",
       "      <th>original_language</th>\n",
       "      <th>original_title</th>\n",
       "      <th>overview</th>\n",
       "      <th>popularity</th>\n",
       "      <th>...</th>\n",
       "      <th>release_date</th>\n",
       "      <th>runtime</th>\n",
       "      <th>spoken_languages</th>\n",
       "      <th>status</th>\n",
       "      <th>tagline</th>\n",
       "      <th>title</th>\n",
       "      <th>Keywords</th>\n",
       "      <th>cast</th>\n",
       "      <th>crew</th>\n",
       "      <th>revenue</th>\n",
       "    </tr>\n",
       "  </thead>\n",
       "  <tbody>\n",
       "    <tr>\n",
       "      <th>0</th>\n",
       "      <td>1</td>\n",
       "      <td>[{'id': 313576, 'name': 'Hot Tub Time Machine ...</td>\n",
       "      <td>14000000</td>\n",
       "      <td>[{'id': 35, 'name': 'Comedy'}]</td>\n",
       "      <td>NaN</td>\n",
       "      <td>tt2637294</td>\n",
       "      <td>en</td>\n",
       "      <td>Hot Tub Time Machine 2</td>\n",
       "      <td>When Lou, who has become the \"father of the In...</td>\n",
       "      <td>6.575393</td>\n",
       "      <td>...</td>\n",
       "      <td>2/20/15</td>\n",
       "      <td>93.0</td>\n",
       "      <td>[{'iso_639_1': 'en', 'name': 'English'}]</td>\n",
       "      <td>Released</td>\n",
       "      <td>The Laws of Space and Time are About to be Vio...</td>\n",
       "      <td>Hot Tub Time Machine 2</td>\n",
       "      <td>[{'id': 4379, 'name': 'time travel'}, {'id': 9...</td>\n",
       "      <td>[{'cast_id': 4, 'character': 'Lou', 'credit_id...</td>\n",
       "      <td>[{'credit_id': '59ac067c92514107af02c8c8', 'de...</td>\n",
       "      <td>12314651</td>\n",
       "    </tr>\n",
       "    <tr>\n",
       "      <th>1</th>\n",
       "      <td>2</td>\n",
       "      <td>[{'id': 107674, 'name': 'The Princess Diaries ...</td>\n",
       "      <td>40000000</td>\n",
       "      <td>[{'id': 35, 'name': 'Comedy'}, {'id': 18, 'nam...</td>\n",
       "      <td>NaN</td>\n",
       "      <td>tt0368933</td>\n",
       "      <td>en</td>\n",
       "      <td>The Princess Diaries 2: Royal Engagement</td>\n",
       "      <td>Mia Thermopolis is now a college graduate and ...</td>\n",
       "      <td>8.248895</td>\n",
       "      <td>...</td>\n",
       "      <td>8/6/04</td>\n",
       "      <td>113.0</td>\n",
       "      <td>[{'iso_639_1': 'en', 'name': 'English'}]</td>\n",
       "      <td>Released</td>\n",
       "      <td>It can take a lifetime to find true love; she'...</td>\n",
       "      <td>The Princess Diaries 2: Royal Engagement</td>\n",
       "      <td>[{'id': 2505, 'name': 'coronation'}, {'id': 42...</td>\n",
       "      <td>[{'cast_id': 1, 'character': 'Mia Thermopolis'...</td>\n",
       "      <td>[{'credit_id': '52fe43fe9251416c7502563d', 'de...</td>\n",
       "      <td>95149435</td>\n",
       "    </tr>\n",
       "  </tbody>\n",
       "</table>\n",
       "<p>2 rows × 23 columns</p>\n",
       "</div>"
      ],
      "text/plain": [
       "   id                              belongs_to_collection    budget  \\\n",
       "0   1  [{'id': 313576, 'name': 'Hot Tub Time Machine ...  14000000   \n",
       "1   2  [{'id': 107674, 'name': 'The Princess Diaries ...  40000000   \n",
       "\n",
       "                                              genres homepage    imdb_id  \\\n",
       "0                     [{'id': 35, 'name': 'Comedy'}]      NaN  tt2637294   \n",
       "1  [{'id': 35, 'name': 'Comedy'}, {'id': 18, 'nam...      NaN  tt0368933   \n",
       "\n",
       "  original_language                            original_title  \\\n",
       "0                en                    Hot Tub Time Machine 2   \n",
       "1                en  The Princess Diaries 2: Royal Engagement   \n",
       "\n",
       "                                            overview  popularity  ...  \\\n",
       "0  When Lou, who has become the \"father of the In...    6.575393  ...   \n",
       "1  Mia Thermopolis is now a college graduate and ...    8.248895  ...   \n",
       "\n",
       "  release_date runtime                          spoken_languages    status  \\\n",
       "0      2/20/15    93.0  [{'iso_639_1': 'en', 'name': 'English'}]  Released   \n",
       "1       8/6/04   113.0  [{'iso_639_1': 'en', 'name': 'English'}]  Released   \n",
       "\n",
       "                                             tagline  \\\n",
       "0  The Laws of Space and Time are About to be Vio...   \n",
       "1  It can take a lifetime to find true love; she'...   \n",
       "\n",
       "                                      title  \\\n",
       "0                    Hot Tub Time Machine 2   \n",
       "1  The Princess Diaries 2: Royal Engagement   \n",
       "\n",
       "                                            Keywords  \\\n",
       "0  [{'id': 4379, 'name': 'time travel'}, {'id': 9...   \n",
       "1  [{'id': 2505, 'name': 'coronation'}, {'id': 42...   \n",
       "\n",
       "                                                cast  \\\n",
       "0  [{'cast_id': 4, 'character': 'Lou', 'credit_id...   \n",
       "1  [{'cast_id': 1, 'character': 'Mia Thermopolis'...   \n",
       "\n",
       "                                                crew   revenue  \n",
       "0  [{'credit_id': '59ac067c92514107af02c8c8', 'de...  12314651  \n",
       "1  [{'credit_id': '52fe43fe9251416c7502563d', 'de...  95149435  \n",
       "\n",
       "[2 rows x 23 columns]"
      ]
     },
     "execution_count": 44,
     "metadata": {},
     "output_type": "execute_result"
    }
   ],
   "source": [
    "#Importing Dataset\n",
    "\n",
    "df = pd.read_csv(\"data.csv\")\n",
    "df.head(2)"
   ]
  },
  {
   "cell_type": "code",
   "execution_count": 45,
   "id": "c3a305f6",
   "metadata": {},
   "outputs": [
    {
     "data": {
      "text/plain": [
       "(3000, 23)"
      ]
     },
     "execution_count": 45,
     "metadata": {},
     "output_type": "execute_result"
    }
   ],
   "source": [
    "df.shape"
   ]
  },
  {
   "cell_type": "code",
   "execution_count": 46,
   "id": "f05a7506",
   "metadata": {},
   "outputs": [
    {
     "data": {
      "text/plain": [
       "Index(['id', 'belongs_to_collection', 'budget', 'genres', 'homepage',\n",
       "       'imdb_id', 'original_language', 'original_title', 'overview',\n",
       "       'popularity', 'poster_path', 'production_companies',\n",
       "       'production_countries', 'release_date', 'runtime', 'spoken_languages',\n",
       "       'status', 'tagline', 'title', 'Keywords', 'cast', 'crew', 'revenue'],\n",
       "      dtype='object')"
      ]
     },
     "execution_count": 46,
     "metadata": {},
     "output_type": "execute_result"
    }
   ],
   "source": [
    "df.columns"
   ]
  },
  {
   "cell_type": "markdown",
   "id": "b5dbf2af",
   "metadata": {},
   "source": [
    "<h1>Data Cleaning</h1>"
   ]
  },
  {
   "cell_type": "code",
   "execution_count": 47,
   "id": "e06693f5",
   "metadata": {},
   "outputs": [
    {
     "data": {
      "text/plain": [
       "\"[{'id': 313576, 'name': 'Hot Tub Time Machine Collection', 'poster_path': '/iEhb00TGPucF0b4joM1ieyY026U.jpg', 'backdrop_path': '/noeTVcgpBiD48fDjFVic1Vz7ope.jpg'}]\""
      ]
     },
     "execution_count": 47,
     "metadata": {},
     "output_type": "execute_result"
    }
   ],
   "source": [
    "df['belongs_to_collection'][0]"
   ]
  },
  {
   "cell_type": "code",
   "execution_count": 48,
   "id": "896bea41",
   "metadata": {},
   "outputs": [
    {
     "data": {
      "text/html": [
       "<div>\n",
       "<style scoped>\n",
       "    .dataframe tbody tr th:only-of-type {\n",
       "        vertical-align: middle;\n",
       "    }\n",
       "\n",
       "    .dataframe tbody tr th {\n",
       "        vertical-align: top;\n",
       "    }\n",
       "\n",
       "    .dataframe thead th {\n",
       "        text-align: right;\n",
       "    }\n",
       "</style>\n",
       "<table border=\"1\" class=\"dataframe\">\n",
       "  <thead>\n",
       "    <tr style=\"text-align: right;\">\n",
       "      <th></th>\n",
       "      <th>id</th>\n",
       "      <th>belongs_to_collection</th>\n",
       "      <th>budget</th>\n",
       "      <th>genres</th>\n",
       "      <th>homepage</th>\n",
       "      <th>imdb_id</th>\n",
       "      <th>original_language</th>\n",
       "      <th>original_title</th>\n",
       "      <th>overview</th>\n",
       "      <th>popularity</th>\n",
       "      <th>...</th>\n",
       "      <th>release_date</th>\n",
       "      <th>runtime</th>\n",
       "      <th>spoken_languages</th>\n",
       "      <th>status</th>\n",
       "      <th>tagline</th>\n",
       "      <th>title</th>\n",
       "      <th>Keywords</th>\n",
       "      <th>cast</th>\n",
       "      <th>crew</th>\n",
       "      <th>revenue</th>\n",
       "    </tr>\n",
       "  </thead>\n",
       "  <tbody>\n",
       "    <tr>\n",
       "      <th>0</th>\n",
       "      <td>1</td>\n",
       "      <td>[{'id': 313576, 'name': 'Hot Tub Time Machine ...</td>\n",
       "      <td>14000000</td>\n",
       "      <td>[{'id': 35, 'name': 'Comedy'}]</td>\n",
       "      <td>NaN</td>\n",
       "      <td>tt2637294</td>\n",
       "      <td>en</td>\n",
       "      <td>Hot Tub Time Machine 2</td>\n",
       "      <td>When Lou, who has become the \"father of the In...</td>\n",
       "      <td>6.575393</td>\n",
       "      <td>...</td>\n",
       "      <td>2/20/15</td>\n",
       "      <td>93.0</td>\n",
       "      <td>[{'iso_639_1': 'en', 'name': 'English'}]</td>\n",
       "      <td>Released</td>\n",
       "      <td>The Laws of Space and Time are About to be Vio...</td>\n",
       "      <td>Hot Tub Time Machine 2</td>\n",
       "      <td>[{'id': 4379, 'name': 'time travel'}, {'id': 9...</td>\n",
       "      <td>[{'cast_id': 4, 'character': 'Lou', 'credit_id...</td>\n",
       "      <td>[{'credit_id': '59ac067c92514107af02c8c8', 'de...</td>\n",
       "      <td>12314651</td>\n",
       "    </tr>\n",
       "  </tbody>\n",
       "</table>\n",
       "<p>1 rows × 23 columns</p>\n",
       "</div>"
      ],
      "text/plain": [
       "   id                              belongs_to_collection    budget  \\\n",
       "0   1  [{'id': 313576, 'name': 'Hot Tub Time Machine ...  14000000   \n",
       "\n",
       "                           genres homepage    imdb_id original_language  \\\n",
       "0  [{'id': 35, 'name': 'Comedy'}]      NaN  tt2637294                en   \n",
       "\n",
       "           original_title                                           overview  \\\n",
       "0  Hot Tub Time Machine 2  When Lou, who has become the \"father of the In...   \n",
       "\n",
       "   popularity  ... release_date runtime  \\\n",
       "0    6.575393  ...      2/20/15    93.0   \n",
       "\n",
       "                           spoken_languages    status  \\\n",
       "0  [{'iso_639_1': 'en', 'name': 'English'}]  Released   \n",
       "\n",
       "                                             tagline                   title  \\\n",
       "0  The Laws of Space and Time are About to be Vio...  Hot Tub Time Machine 2   \n",
       "\n",
       "                                            Keywords  \\\n",
       "0  [{'id': 4379, 'name': 'time travel'}, {'id': 9...   \n",
       "\n",
       "                                                cast  \\\n",
       "0  [{'cast_id': 4, 'character': 'Lou', 'credit_id...   \n",
       "\n",
       "                                                crew   revenue  \n",
       "0  [{'credit_id': '59ac067c92514107af02c8c8', 'de...  12314651  \n",
       "\n",
       "[1 rows x 23 columns]"
      ]
     },
     "execution_count": 48,
     "metadata": {},
     "output_type": "execute_result"
    }
   ],
   "source": [
    "df.head(1)"
   ]
  },
  {
   "cell_type": "code",
   "execution_count": 49,
   "id": "c555a008",
   "metadata": {},
   "outputs": [
    {
     "data": {
      "text/html": [
       "<div>\n",
       "<style scoped>\n",
       "    .dataframe tbody tr th:only-of-type {\n",
       "        vertical-align: middle;\n",
       "    }\n",
       "\n",
       "    .dataframe tbody tr th {\n",
       "        vertical-align: top;\n",
       "    }\n",
       "\n",
       "    .dataframe thead th {\n",
       "        text-align: right;\n",
       "    }\n",
       "</style>\n",
       "<table border=\"1\" class=\"dataframe\">\n",
       "  <thead>\n",
       "    <tr style=\"text-align: right;\">\n",
       "      <th></th>\n",
       "      <th>id</th>\n",
       "      <th>belongs_to_collection</th>\n",
       "      <th>budget</th>\n",
       "      <th>genres</th>\n",
       "      <th>homepage</th>\n",
       "      <th>imdb_id</th>\n",
       "      <th>original_language</th>\n",
       "      <th>original_title</th>\n",
       "      <th>overview</th>\n",
       "      <th>popularity</th>\n",
       "      <th>...</th>\n",
       "      <th>release_date</th>\n",
       "      <th>runtime</th>\n",
       "      <th>spoken_languages</th>\n",
       "      <th>status</th>\n",
       "      <th>tagline</th>\n",
       "      <th>title</th>\n",
       "      <th>Keywords</th>\n",
       "      <th>cast</th>\n",
       "      <th>crew</th>\n",
       "      <th>revenue</th>\n",
       "    </tr>\n",
       "  </thead>\n",
       "  <tbody>\n",
       "    <tr>\n",
       "      <th>0</th>\n",
       "      <td>1</td>\n",
       "      <td>Hot Tub Time Machine Collection</td>\n",
       "      <td>14000000</td>\n",
       "      <td>Comedy</td>\n",
       "      <td>NaN</td>\n",
       "      <td>tt2637294</td>\n",
       "      <td>en</td>\n",
       "      <td>Hot Tub Time Machine 2</td>\n",
       "      <td>When Lou, who has become the \"father of the In...</td>\n",
       "      <td>6.575393</td>\n",
       "      <td>...</td>\n",
       "      <td>2/20/15</td>\n",
       "      <td>93.0</td>\n",
       "      <td>English</td>\n",
       "      <td>Released</td>\n",
       "      <td>The Laws of Space and Time are About to be Vio...</td>\n",
       "      <td>Hot Tub Time Machine 2</td>\n",
       "      <td>[{'id': 4379, 'name': 'time travel'}, {'id': 9...</td>\n",
       "      <td>{'cast_id': 4, 'character': 'Lou', 'credit_id'...</td>\n",
       "      <td>[{'credit_id': '59ac067c92514107af02c8c8', 'de...</td>\n",
       "      <td>12314651</td>\n",
       "    </tr>\n",
       "  </tbody>\n",
       "</table>\n",
       "<p>1 rows × 23 columns</p>\n",
       "</div>"
      ],
      "text/plain": [
       "   id              belongs_to_collection    budget    genres homepage  \\\n",
       "0   1    Hot Tub Time Machine Collection  14000000    Comedy      NaN   \n",
       "\n",
       "     imdb_id original_language          original_title  \\\n",
       "0  tt2637294                en  Hot Tub Time Machine 2   \n",
       "\n",
       "                                            overview  popularity  ...  \\\n",
       "0  When Lou, who has become the \"father of the In...    6.575393  ...   \n",
       "\n",
       "  release_date runtime spoken_languages    status  \\\n",
       "0      2/20/15    93.0          English  Released   \n",
       "\n",
       "                                             tagline                   title  \\\n",
       "0  The Laws of Space and Time are About to be Vio...  Hot Tub Time Machine 2   \n",
       "\n",
       "                                            Keywords  \\\n",
       "0  [{'id': 4379, 'name': 'time travel'}, {'id': 9...   \n",
       "\n",
       "                                                cast  \\\n",
       "0  {'cast_id': 4, 'character': 'Lou', 'credit_id'...   \n",
       "\n",
       "                                                crew   revenue  \n",
       "0  [{'credit_id': '59ac067c92514107af02c8c8', 'de...  12314651  \n",
       "\n",
       "[1 rows x 23 columns]"
      ]
     },
     "execution_count": 49,
     "metadata": {},
     "output_type": "execute_result"
    }
   ],
   "source": [
    "dict = ['genres', 'spoken_languages', 'belongs_to_collection']\n",
    "\n",
    "for i in range(0,len(dict)):\n",
    "    \n",
    "    df[dict[i]] = df[dict[i]].str.split(',').str[1]\n",
    "    df[dict[i]] = df[dict[i]].astype(str)\n",
    "    df[dict[i]] = df[dict[i]].str.replace(r\"[\\\"\\',]\", '')\n",
    "    df[dict[i]] = df[dict[i]].replace({'\\]':''}, regex=True)\n",
    "    df[dict[i]] = df[dict[i]].replace({'\\}':''}, regex=True)\n",
    "    df[dict[i]] = df[dict[i]].str.replace('name:', '')\n",
    "    \n",
    "df['cast'] = df['cast'].str.replace(r\"]\", '')\n",
    "df['cast'] = df['cast'].str.replace(r\"[\", '')\n",
    "\n",
    "df.head(1)"
   ]
  },
  {
   "cell_type": "code",
   "execution_count": 50,
   "id": "78e40b3a",
   "metadata": {},
   "outputs": [
    {
     "data": {
      "text/plain": [
       "Index(['belongs_to_collection', 'budget', 'genres', 'homepage',\n",
       "       'original_language', 'original_title', 'overview', 'popularity',\n",
       "       'release_date', 'runtime', 'spoken_languages', 'status', 'tagline',\n",
       "       'title', 'revenue'],\n",
       "      dtype='object')"
      ]
     },
     "execution_count": 50,
     "metadata": {},
     "output_type": "execute_result"
    }
   ],
   "source": [
    "df = df.drop(['id','imdb_id','poster_path','production_countries','production_companies','Keywords','cast','crew'], axis=1)\n",
    "df.columns"
   ]
  },
  {
   "cell_type": "code",
   "execution_count": 51,
   "id": "b0cf270f",
   "metadata": {},
   "outputs": [
    {
     "data": {
      "text/html": [
       "<div>\n",
       "<style scoped>\n",
       "    .dataframe tbody tr th:only-of-type {\n",
       "        vertical-align: middle;\n",
       "    }\n",
       "\n",
       "    .dataframe tbody tr th {\n",
       "        vertical-align: top;\n",
       "    }\n",
       "\n",
       "    .dataframe thead th {\n",
       "        text-align: right;\n",
       "    }\n",
       "</style>\n",
       "<table border=\"1\" class=\"dataframe\">\n",
       "  <thead>\n",
       "    <tr style=\"text-align: right;\">\n",
       "      <th></th>\n",
       "      <th>belongs_to_collection</th>\n",
       "      <th>budget</th>\n",
       "      <th>genres</th>\n",
       "      <th>homepage</th>\n",
       "      <th>original_language</th>\n",
       "      <th>original_title</th>\n",
       "      <th>overview</th>\n",
       "      <th>popularity</th>\n",
       "      <th>release_date</th>\n",
       "      <th>runtime</th>\n",
       "      <th>spoken_languages</th>\n",
       "      <th>status</th>\n",
       "      <th>tagline</th>\n",
       "      <th>title</th>\n",
       "      <th>revenue</th>\n",
       "    </tr>\n",
       "  </thead>\n",
       "  <tbody>\n",
       "    <tr>\n",
       "      <th>0</th>\n",
       "      <td>Hot Tub Time Machine Collection</td>\n",
       "      <td>14000000</td>\n",
       "      <td>Comedy</td>\n",
       "      <td>NaN</td>\n",
       "      <td>en</td>\n",
       "      <td>Hot Tub Time Machine 2</td>\n",
       "      <td>When Lou, who has become the \"father of the In...</td>\n",
       "      <td>6.575393</td>\n",
       "      <td>2/20/15</td>\n",
       "      <td>93.0</td>\n",
       "      <td>English</td>\n",
       "      <td>Released</td>\n",
       "      <td>The Laws of Space and Time are About to be Vio...</td>\n",
       "      <td>Hot Tub Time Machine 2</td>\n",
       "      <td>12314651</td>\n",
       "    </tr>\n",
       "  </tbody>\n",
       "</table>\n",
       "</div>"
      ],
      "text/plain": [
       "               belongs_to_collection    budget    genres homepage  \\\n",
       "0    Hot Tub Time Machine Collection  14000000    Comedy      NaN   \n",
       "\n",
       "  original_language          original_title  \\\n",
       "0                en  Hot Tub Time Machine 2   \n",
       "\n",
       "                                            overview  popularity release_date  \\\n",
       "0  When Lou, who has become the \"father of the In...    6.575393      2/20/15   \n",
       "\n",
       "   runtime spoken_languages    status  \\\n",
       "0     93.0          English  Released   \n",
       "\n",
       "                                             tagline                   title  \\\n",
       "0  The Laws of Space and Time are About to be Vio...  Hot Tub Time Machine 2   \n",
       "\n",
       "    revenue  \n",
       "0  12314651  "
      ]
     },
     "execution_count": 51,
     "metadata": {},
     "output_type": "execute_result"
    }
   ],
   "source": [
    "df.head(1)"
   ]
  },
  {
   "cell_type": "code",
   "execution_count": 52,
   "id": "f56cdc0d",
   "metadata": {},
   "outputs": [
    {
     "data": {
      "text/plain": [
       "Index(['belongs_to_collection', 'budget', 'genres', 'homepage',\n",
       "       'original_language', 'original_title', 'overview', 'popularity',\n",
       "       'release_date', 'runtime', 'spoken_languages', 'status', 'tagline',\n",
       "       'title', 'revenue'],\n",
       "      dtype='object')"
      ]
     },
     "execution_count": 52,
     "metadata": {},
     "output_type": "execute_result"
    }
   ],
   "source": [
    "df.columns"
   ]
  },
  {
   "cell_type": "markdown",
   "id": "f625e48b",
   "metadata": {},
   "source": [
    "<h1>Exploratory Data Analysis</h1>"
   ]
  },
  {
   "cell_type": "code",
   "execution_count": 53,
   "id": "2f465d13",
   "metadata": {},
   "outputs": [
    {
     "data": {
      "text/html": [
       "<div>\n",
       "<style scoped>\n",
       "    .dataframe tbody tr th:only-of-type {\n",
       "        vertical-align: middle;\n",
       "    }\n",
       "\n",
       "    .dataframe tbody tr th {\n",
       "        vertical-align: top;\n",
       "    }\n",
       "\n",
       "    .dataframe thead th {\n",
       "        text-align: right;\n",
       "    }\n",
       "</style>\n",
       "<table border=\"1\" class=\"dataframe\">\n",
       "  <thead>\n",
       "    <tr style=\"text-align: right;\">\n",
       "      <th></th>\n",
       "      <th>budget</th>\n",
       "      <th>popularity</th>\n",
       "      <th>runtime</th>\n",
       "      <th>revenue</th>\n",
       "    </tr>\n",
       "  </thead>\n",
       "  <tbody>\n",
       "    <tr>\n",
       "      <th>count</th>\n",
       "      <td>3.000000e+03</td>\n",
       "      <td>3000.000000</td>\n",
       "      <td>2998.000000</td>\n",
       "      <td>3.000000e+03</td>\n",
       "    </tr>\n",
       "    <tr>\n",
       "      <th>mean</th>\n",
       "      <td>2.253133e+07</td>\n",
       "      <td>8.463274</td>\n",
       "      <td>107.856571</td>\n",
       "      <td>6.672585e+07</td>\n",
       "    </tr>\n",
       "    <tr>\n",
       "      <th>std</th>\n",
       "      <td>3.702609e+07</td>\n",
       "      <td>12.104000</td>\n",
       "      <td>22.086434</td>\n",
       "      <td>1.375323e+08</td>\n",
       "    </tr>\n",
       "    <tr>\n",
       "      <th>min</th>\n",
       "      <td>0.000000e+00</td>\n",
       "      <td>0.000001</td>\n",
       "      <td>0.000000</td>\n",
       "      <td>1.000000e+00</td>\n",
       "    </tr>\n",
       "    <tr>\n",
       "      <th>25%</th>\n",
       "      <td>0.000000e+00</td>\n",
       "      <td>4.018053</td>\n",
       "      <td>94.000000</td>\n",
       "      <td>2.379808e+06</td>\n",
       "    </tr>\n",
       "    <tr>\n",
       "      <th>50%</th>\n",
       "      <td>8.000000e+06</td>\n",
       "      <td>7.374861</td>\n",
       "      <td>104.000000</td>\n",
       "      <td>1.680707e+07</td>\n",
       "    </tr>\n",
       "    <tr>\n",
       "      <th>75%</th>\n",
       "      <td>2.900000e+07</td>\n",
       "      <td>10.890983</td>\n",
       "      <td>118.000000</td>\n",
       "      <td>6.891920e+07</td>\n",
       "    </tr>\n",
       "    <tr>\n",
       "      <th>max</th>\n",
       "      <td>3.800000e+08</td>\n",
       "      <td>294.337037</td>\n",
       "      <td>338.000000</td>\n",
       "      <td>1.519558e+09</td>\n",
       "    </tr>\n",
       "  </tbody>\n",
       "</table>\n",
       "</div>"
      ],
      "text/plain": [
       "             budget   popularity      runtime       revenue\n",
       "count  3.000000e+03  3000.000000  2998.000000  3.000000e+03\n",
       "mean   2.253133e+07     8.463274   107.856571  6.672585e+07\n",
       "std    3.702609e+07    12.104000    22.086434  1.375323e+08\n",
       "min    0.000000e+00     0.000001     0.000000  1.000000e+00\n",
       "25%    0.000000e+00     4.018053    94.000000  2.379808e+06\n",
       "50%    8.000000e+06     7.374861   104.000000  1.680707e+07\n",
       "75%    2.900000e+07    10.890983   118.000000  6.891920e+07\n",
       "max    3.800000e+08   294.337037   338.000000  1.519558e+09"
      ]
     },
     "execution_count": 53,
     "metadata": {},
     "output_type": "execute_result"
    }
   ],
   "source": [
    "df.describe()"
   ]
  },
  {
   "cell_type": "code",
   "execution_count": 54,
   "id": "4e59ded0",
   "metadata": {},
   "outputs": [
    {
     "data": {
      "image/png": "[encoded data removed]",
      "text/plain": [
       "<Figure size 720x576 with 2 Axes>"
      ]
     },
     "metadata": {
      "needs_background": "light"
     },
     "output_type": "display_data"
    }
   ],
   "source": [
    "import seaborn as sns\n",
    "#get correlations of each features in dataset\n",
    "corrmat = df.corr()\n",
    "top_corr_features = corrmat.index\n",
    "plt.figure(figsize=(10,8))\n",
    "#plot heat map\n",
    "g=sns.heatmap(df[top_corr_features].corr(),annot=True,cmap=\"RdYlGn\")"
   ]
  },
  {
   "cell_type": "code",
   "execution_count": 55,
   "id": "1829b949",
   "metadata": {},
   "outputs": [
    {
     "data": {
      "text/plain": [
       "array([[<AxesSubplot:title={'center':'budget'}>,\n",
       "        <AxesSubplot:title={'center':'popularity'}>],\n",
       "       [<AxesSubplot:title={'center':'runtime'}>,\n",
       "        <AxesSubplot:title={'center':'revenue'}>]], dtype=object)"
      ]
     },
     "execution_count": 55,
     "metadata": {},
     "output_type": "execute_result"
    },
    {
     "data": {
      "image/png": "[encoded data removed]",
      "text/plain": [
       "<Figure size 1440x720 with 4 Axes>"
      ]
     },
     "metadata": {
      "needs_background": "light"
     },
     "output_type": "display_data"
    }
   ],
   "source": [
    "df.hist(figsize=(20,10))"
   ]
  },
  {
   "cell_type": "code",
   "execution_count": 56,
   "id": "841212d2",
   "metadata": {},
   "outputs": [
    {
     "data": {
      "image/png": "[encoded data removed]",
      "text/plain": [
       "<Figure size 432x288 with 1 Axes>"
      ]
     },
     "metadata": {
      "needs_background": "light"
     },
     "output_type": "display_data"
    }
   ],
   "source": [
    "# Histogram Plot of revenue\n",
    "\n",
    "plt.hist(df['revenue'].dropna(), bins = 20, edgecolor = 'black');\n",
    "plt.xlabel('revenue'); \n",
    "plt.ylabel('Count'); plt.title('Revenue Distribution');"
   ]
  },
  {
   "cell_type": "code",
   "execution_count": 57,
   "id": "fb8b895e",
   "metadata": {},
   "outputs": [
    {
     "data": {
      "text/html": [
       "<div>\n",
       "<style scoped>\n",
       "    .dataframe tbody tr th:only-of-type {\n",
       "        vertical-align: middle;\n",
       "    }\n",
       "\n",
       "    .dataframe tbody tr th {\n",
       "        vertical-align: top;\n",
       "    }\n",
       "\n",
       "    .dataframe thead th {\n",
       "        text-align: right;\n",
       "    }\n",
       "</style>\n",
       "<table border=\"1\" class=\"dataframe\">\n",
       "  <thead>\n",
       "    <tr style=\"text-align: right;\">\n",
       "      <th></th>\n",
       "      <th>belongs_to_collection</th>\n",
       "      <th>budget</th>\n",
       "      <th>genres</th>\n",
       "      <th>homepage</th>\n",
       "      <th>original_language</th>\n",
       "      <th>original_title</th>\n",
       "      <th>overview</th>\n",
       "      <th>popularity</th>\n",
       "      <th>release_date</th>\n",
       "      <th>runtime</th>\n",
       "      <th>spoken_languages</th>\n",
       "      <th>status</th>\n",
       "      <th>tagline</th>\n",
       "      <th>title</th>\n",
       "      <th>revenue</th>\n",
       "    </tr>\n",
       "  </thead>\n",
       "  <tbody>\n",
       "    <tr>\n",
       "      <th>0</th>\n",
       "      <td>Hot Tub Time Machine Collection</td>\n",
       "      <td>14000000</td>\n",
       "      <td>Comedy</td>\n",
       "      <td>NaN</td>\n",
       "      <td>en</td>\n",
       "      <td>Hot Tub Time Machine 2</td>\n",
       "      <td>When Lou, who has become the \"father of the In...</td>\n",
       "      <td>6.575393</td>\n",
       "      <td>2/20/15</td>\n",
       "      <td>93.0</td>\n",
       "      <td>English</td>\n",
       "      <td>Released</td>\n",
       "      <td>The Laws of Space and Time are About to be Vio...</td>\n",
       "      <td>Hot Tub Time Machine 2</td>\n",
       "      <td>12314651</td>\n",
       "    </tr>\n",
       "  </tbody>\n",
       "</table>\n",
       "</div>"
      ],
      "text/plain": [
       "               belongs_to_collection    budget    genres homepage  \\\n",
       "0    Hot Tub Time Machine Collection  14000000    Comedy      NaN   \n",
       "\n",
       "  original_language          original_title  \\\n",
       "0                en  Hot Tub Time Machine 2   \n",
       "\n",
       "                                            overview  popularity release_date  \\\n",
       "0  When Lou, who has become the \"father of the In...    6.575393      2/20/15   \n",
       "\n",
       "   runtime spoken_languages    status  \\\n",
       "0     93.0          English  Released   \n",
       "\n",
       "                                             tagline                   title  \\\n",
       "0  The Laws of Space and Time are About to be Vio...  Hot Tub Time Machine 2   \n",
       "\n",
       "    revenue  \n",
       "0  12314651  "
      ]
     },
     "execution_count": 57,
     "metadata": {},
     "output_type": "execute_result"
    }
   ],
   "source": [
    "df.head(1)"
   ]
  },
  {
   "cell_type": "code",
   "execution_count": 58,
   "id": "f60c1530",
   "metadata": {},
   "outputs": [
    {
     "data": {
      "text/plain": [
       "<AxesSubplot:>"
      ]
     },
     "execution_count": 58,
     "metadata": {},
     "output_type": "execute_result"
    },
    {
     "data": {
      "image/png": "[encoded data removed]",
      "text/plain": [
       "<Figure size 432x288 with 1 Axes>"
      ]
     },
     "metadata": {
      "needs_background": "light"
     },
     "output_type": "display_data"
    }
   ],
   "source": [
    "df.plot.box(vert=False)"
   ]
  },
  {
   "cell_type": "code",
   "execution_count": 59,
   "id": "272437a0",
   "metadata": {},
   "outputs": [
    {
     "data": {
      "text/html": [
       "<div>\n",
       "<style scoped>\n",
       "    .dataframe tbody tr th:only-of-type {\n",
       "        vertical-align: middle;\n",
       "    }\n",
       "\n",
       "    .dataframe tbody tr th {\n",
       "        vertical-align: top;\n",
       "    }\n",
       "\n",
       "    .dataframe thead th {\n",
       "        text-align: right;\n",
       "    }\n",
       "</style>\n",
       "<table border=\"1\" class=\"dataframe\">\n",
       "  <thead>\n",
       "    <tr style=\"text-align: right;\">\n",
       "      <th></th>\n",
       "      <th>belongs_to_collection</th>\n",
       "      <th>budget</th>\n",
       "      <th>genres</th>\n",
       "      <th>homepage</th>\n",
       "      <th>original_language</th>\n",
       "      <th>original_title</th>\n",
       "      <th>overview</th>\n",
       "      <th>popularity</th>\n",
       "      <th>release_date</th>\n",
       "      <th>runtime</th>\n",
       "      <th>spoken_languages</th>\n",
       "      <th>status</th>\n",
       "      <th>tagline</th>\n",
       "      <th>title</th>\n",
       "      <th>revenue</th>\n",
       "    </tr>\n",
       "  </thead>\n",
       "  <tbody>\n",
       "    <tr>\n",
       "      <th>0</th>\n",
       "      <td>Hot Tub Time Machine Collection</td>\n",
       "      <td>14000000</td>\n",
       "      <td>Comedy</td>\n",
       "      <td>NaN</td>\n",
       "      <td>en</td>\n",
       "      <td>Hot Tub Time Machine 2</td>\n",
       "      <td>When Lou, who has become the \"father of the In...</td>\n",
       "      <td>6.575393</td>\n",
       "      <td>2/20/15</td>\n",
       "      <td>93.0</td>\n",
       "      <td>English</td>\n",
       "      <td>Released</td>\n",
       "      <td>The Laws of Space and Time are About to be Vio...</td>\n",
       "      <td>Hot Tub Time Machine 2</td>\n",
       "      <td>12314651</td>\n",
       "    </tr>\n",
       "  </tbody>\n",
       "</table>\n",
       "</div>"
      ],
      "text/plain": [
       "               belongs_to_collection    budget    genres homepage  \\\n",
       "0    Hot Tub Time Machine Collection  14000000    Comedy      NaN   \n",
       "\n",
       "  original_language          original_title  \\\n",
       "0                en  Hot Tub Time Machine 2   \n",
       "\n",
       "                                            overview  popularity release_date  \\\n",
       "0  When Lou, who has become the \"father of the In...    6.575393      2/20/15   \n",
       "\n",
       "   runtime spoken_languages    status  \\\n",
       "0     93.0          English  Released   \n",
       "\n",
       "                                             tagline                   title  \\\n",
       "0  The Laws of Space and Time are About to be Vio...  Hot Tub Time Machine 2   \n",
       "\n",
       "    revenue  \n",
       "0  12314651  "
      ]
     },
     "execution_count": 59,
     "metadata": {},
     "output_type": "execute_result"
    }
   ],
   "source": [
    "df.head(1)"
   ]
  },
  {
   "cell_type": "code",
   "execution_count": 60,
   "id": "fb502bcc",
   "metadata": {},
   "outputs": [
    {
     "data": {
      "text/plain": [
       "Index(['belongs_to_collection', 'budget', 'genres', 'homepage',\n",
       "       'original_language', 'original_title', 'overview', 'popularity',\n",
       "       'release_date', 'runtime', 'spoken_languages', 'status', 'tagline',\n",
       "       'title', 'revenue'],\n",
       "      dtype='object')"
      ]
     },
     "execution_count": 60,
     "metadata": {},
     "output_type": "execute_result"
    }
   ],
   "source": [
    "df.columns"
   ]
  },
  {
   "cell_type": "markdown",
   "id": "e76fde6f",
   "metadata": {},
   "source": [
    "<h1>Data Pre-processing</h1>"
   ]
  },
  {
   "cell_type": "code",
   "execution_count": 61,
   "id": "78a7d48b",
   "metadata": {},
   "outputs": [
    {
     "data": {
      "text/plain": [
       "belongs_to_collection       0\n",
       "budget                      0\n",
       "genres                      0\n",
       "homepage                 2054\n",
       "original_language           0\n",
       "original_title              0\n",
       "overview                    8\n",
       "popularity                  0\n",
       "release_date                0\n",
       "runtime                     2\n",
       "spoken_languages            0\n",
       "status                      0\n",
       "tagline                   597\n",
       "title                       0\n",
       "revenue                     0\n",
       "dtype: int64"
      ]
     },
     "execution_count": 61,
     "metadata": {},
     "output_type": "execute_result"
    }
   ],
   "source": [
    "df.isna().sum()"
   ]
  },
  {
   "cell_type": "code",
   "execution_count": 62,
   "id": "aa350fc8",
   "metadata": {},
   "outputs": [
    {
     "data": {
      "text/plain": [
       "belongs_to_collection    0\n",
       "budget                   0\n",
       "genres                   0\n",
       "homepage                 0\n",
       "original_language        0\n",
       "original_title           0\n",
       "overview                 0\n",
       "popularity               0\n",
       "release_date             0\n",
       "runtime                  0\n",
       "spoken_languages         0\n",
       "status                   0\n",
       "tagline                  0\n",
       "title                    0\n",
       "revenue                  0\n",
       "dtype: int64"
      ]
     },
     "execution_count": 62,
     "metadata": {},
     "output_type": "execute_result"
    }
   ],
   "source": [
    "df = df.fillna(0)\n",
    "df.isna().sum()"
   ]
  },
  {
   "cell_type": "code",
   "execution_count": 63,
   "id": "b01ca686",
   "metadata": {},
   "outputs": [],
   "source": [
    "df = pd.get_dummies(df, drop_first=True)"
   ]
  },
  {
   "cell_type": "code",
   "execution_count": 64,
   "id": "42073723",
   "metadata": {},
   "outputs": [
    {
     "data": {
      "text/plain": [
       "(3000, 15200)"
      ]
     },
     "execution_count": 64,
     "metadata": {},
     "output_type": "execute_result"
    }
   ],
   "source": [
    "df.shape"
   ]
  },
  {
   "cell_type": "code",
   "execution_count": 65,
   "id": "1361898e",
   "metadata": {},
   "outputs": [
    {
     "name": "stdout",
     "output_type": "stream",
     "text": [
      "Index(['budget', 'popularity', 'runtime',\n",
      "       'belongs_to_collection_  12 Rounds Collection',\n",
      "       'belongs_to_collection_  2 Days In... Collection',\n",
      "       'belongs_to_collection_  28 Days/Weeks Later Collection',\n",
      "       'belongs_to_collection_  300 Collection',\n",
      "       'belongs_to_collection_  48 Hrs. Collection',\n",
      "       'belongs_to_collection_  8MM Collection',\n",
      "       'belongs_to_collection_  A Better Tomorrow Collection',\n",
      "       ...\n",
      "       'title_Zombieland', 'title_Zookeeper', 'title_Zootopia',\n",
      "       'title_Zyzzyx Road', 'title_[REC]', 'title_[REC]²',\n",
      "       'title_[REC]⁴ Apocalypse', 'title_¿Quién mató a Bambi?',\n",
      "       'title_А поутру они проснулись', 'title_Королёв'],\n",
      "      dtype='object', length=15199)\n"
     ]
    }
   ],
   "source": [
    "dff = df.drop('revenue', axis=1)\n",
    "Columns = dff.columns\n",
    "print(Columns)"
   ]
  },
  {
   "cell_type": "code",
   "execution_count": 66,
   "id": "c476605c",
   "metadata": {},
   "outputs": [
    {
     "data": {
      "text/html": [
       "<div>\n",
       "<style scoped>\n",
       "    .dataframe tbody tr th:only-of-type {\n",
       "        vertical-align: middle;\n",
       "    }\n",
       "\n",
       "    .dataframe tbody tr th {\n",
       "        vertical-align: top;\n",
       "    }\n",
       "\n",
       "    .dataframe thead th {\n",
       "        text-align: right;\n",
       "    }\n",
       "</style>\n",
       "<table border=\"1\" class=\"dataframe\">\n",
       "  <thead>\n",
       "    <tr style=\"text-align: right;\">\n",
       "      <th></th>\n",
       "      <th>budget</th>\n",
       "      <th>popularity</th>\n",
       "      <th>runtime</th>\n",
       "      <th>revenue</th>\n",
       "      <th>belongs_to_collection_  12 Rounds Collection</th>\n",
       "      <th>belongs_to_collection_  2 Days In... Collection</th>\n",
       "      <th>belongs_to_collection_  28 Days/Weeks Later Collection</th>\n",
       "      <th>belongs_to_collection_  300 Collection</th>\n",
       "      <th>belongs_to_collection_  48 Hrs. Collection</th>\n",
       "      <th>belongs_to_collection_  8MM Collection</th>\n",
       "      <th>...</th>\n",
       "      <th>title_Zombieland</th>\n",
       "      <th>title_Zookeeper</th>\n",
       "      <th>title_Zootopia</th>\n",
       "      <th>title_Zyzzyx Road</th>\n",
       "      <th>title_[REC]</th>\n",
       "      <th>title_[REC]²</th>\n",
       "      <th>title_[REC]⁴ Apocalypse</th>\n",
       "      <th>title_¿Quién mató a Bambi?</th>\n",
       "      <th>title_А поутру они проснулись</th>\n",
       "      <th>title_Королёв</th>\n",
       "    </tr>\n",
       "  </thead>\n",
       "  <tbody>\n",
       "    <tr>\n",
       "      <th>0</th>\n",
       "      <td>14000000</td>\n",
       "      <td>6.575393</td>\n",
       "      <td>93.0</td>\n",
       "      <td>12314651</td>\n",
       "      <td>0</td>\n",
       "      <td>0</td>\n",
       "      <td>0</td>\n",
       "      <td>0</td>\n",
       "      <td>0</td>\n",
       "      <td>0</td>\n",
       "      <td>...</td>\n",
       "      <td>0</td>\n",
       "      <td>0</td>\n",
       "      <td>0</td>\n",
       "      <td>0</td>\n",
       "      <td>0</td>\n",
       "      <td>0</td>\n",
       "      <td>0</td>\n",
       "      <td>0</td>\n",
       "      <td>0</td>\n",
       "      <td>0</td>\n",
       "    </tr>\n",
       "    <tr>\n",
       "      <th>1</th>\n",
       "      <td>40000000</td>\n",
       "      <td>8.248895</td>\n",
       "      <td>113.0</td>\n",
       "      <td>95149435</td>\n",
       "      <td>0</td>\n",
       "      <td>0</td>\n",
       "      <td>0</td>\n",
       "      <td>0</td>\n",
       "      <td>0</td>\n",
       "      <td>0</td>\n",
       "      <td>...</td>\n",
       "      <td>0</td>\n",
       "      <td>0</td>\n",
       "      <td>0</td>\n",
       "      <td>0</td>\n",
       "      <td>0</td>\n",
       "      <td>0</td>\n",
       "      <td>0</td>\n",
       "      <td>0</td>\n",
       "      <td>0</td>\n",
       "      <td>0</td>\n",
       "    </tr>\n",
       "    <tr>\n",
       "      <th>2</th>\n",
       "      <td>3300000</td>\n",
       "      <td>64.299990</td>\n",
       "      <td>105.0</td>\n",
       "      <td>13092000</td>\n",
       "      <td>0</td>\n",
       "      <td>0</td>\n",
       "      <td>0</td>\n",
       "      <td>0</td>\n",
       "      <td>0</td>\n",
       "      <td>0</td>\n",
       "      <td>...</td>\n",
       "      <td>0</td>\n",
       "      <td>0</td>\n",
       "      <td>0</td>\n",
       "      <td>0</td>\n",
       "      <td>0</td>\n",
       "      <td>0</td>\n",
       "      <td>0</td>\n",
       "      <td>0</td>\n",
       "      <td>0</td>\n",
       "      <td>0</td>\n",
       "    </tr>\n",
       "  </tbody>\n",
       "</table>\n",
       "<p>3 rows × 15200 columns</p>\n",
       "</div>"
      ],
      "text/plain": [
       "     budget  popularity  runtime   revenue  \\\n",
       "0  14000000    6.575393     93.0  12314651   \n",
       "1  40000000    8.248895    113.0  95149435   \n",
       "2   3300000   64.299990    105.0  13092000   \n",
       "\n",
       "   belongs_to_collection_  12 Rounds Collection  \\\n",
       "0                                             0   \n",
       "1                                             0   \n",
       "2                                             0   \n",
       "\n",
       "   belongs_to_collection_  2 Days In... Collection  \\\n",
       "0                                                0   \n",
       "1                                                0   \n",
       "2                                                0   \n",
       "\n",
       "   belongs_to_collection_  28 Days/Weeks Later Collection  \\\n",
       "0                                                  0        \n",
       "1                                                  0        \n",
       "2                                                  0        \n",
       "\n",
       "   belongs_to_collection_  300 Collection  \\\n",
       "0                                       0   \n",
       "1                                       0   \n",
       "2                                       0   \n",
       "\n",
       "   belongs_to_collection_  48 Hrs. Collection  \\\n",
       "0                                           0   \n",
       "1                                           0   \n",
       "2                                           0   \n",
       "\n",
       "   belongs_to_collection_  8MM Collection  ...  title_Zombieland  \\\n",
       "0                                       0  ...                 0   \n",
       "1                                       0  ...                 0   \n",
       "2                                       0  ...                 0   \n",
       "\n",
       "   title_Zookeeper  title_Zootopia  title_Zyzzyx Road  title_[REC]  \\\n",
       "0                0               0                  0            0   \n",
       "1                0               0                  0            0   \n",
       "2                0               0                  0            0   \n",
       "\n",
       "   title_[REC]²  title_[REC]⁴ Apocalypse  title_¿Quién mató a Bambi?  \\\n",
       "0             0                        0                           0   \n",
       "1             0                        0                           0   \n",
       "2             0                        0                           0   \n",
       "\n",
       "   title_А поутру они проснулись  title_Королёв  \n",
       "0                              0              0  \n",
       "1                              0              0  \n",
       "2                              0              0  \n",
       "\n",
       "[3 rows x 15200 columns]"
      ]
     },
     "execution_count": 66,
     "metadata": {},
     "output_type": "execute_result"
    }
   ],
   "source": [
    "df.head(3)"
   ]
  },
  {
   "cell_type": "code",
   "execution_count": 67,
   "id": "4626e10e",
   "metadata": {},
   "outputs": [],
   "source": [
    "from sklearn.model_selection import train_test_split\n",
    "from sklearn.preprocessing import StandardScaler\n",
    "\n",
    "from sklearn.preprocessing import MinMaxScaler\n",
    "\n",
    "scaler = MinMaxScaler()\n",
    "\n",
    "df[df.columns.difference(['revenue'])] = scaler.fit_transform(df[df.columns.difference(['revenue'])])"
   ]
  },
  {
   "cell_type": "code",
   "execution_count": 68,
   "id": "1e51bcc1",
   "metadata": {},
   "outputs": [
    {
     "data": {
      "text/html": [
       "<div>\n",
       "<style scoped>\n",
       "    .dataframe tbody tr th:only-of-type {\n",
       "        vertical-align: middle;\n",
       "    }\n",
       "\n",
       "    .dataframe tbody tr th {\n",
       "        vertical-align: top;\n",
       "    }\n",
       "\n",
       "    .dataframe thead th {\n",
       "        text-align: right;\n",
       "    }\n",
       "</style>\n",
       "<table border=\"1\" class=\"dataframe\">\n",
       "  <thead>\n",
       "    <tr style=\"text-align: right;\">\n",
       "      <th></th>\n",
       "      <th>budget</th>\n",
       "      <th>popularity</th>\n",
       "      <th>runtime</th>\n",
       "      <th>revenue</th>\n",
       "      <th>belongs_to_collection_  12 Rounds Collection</th>\n",
       "      <th>belongs_to_collection_  2 Days In... Collection</th>\n",
       "      <th>belongs_to_collection_  28 Days/Weeks Later Collection</th>\n",
       "      <th>belongs_to_collection_  300 Collection</th>\n",
       "      <th>belongs_to_collection_  48 Hrs. Collection</th>\n",
       "      <th>belongs_to_collection_  8MM Collection</th>\n",
       "      <th>...</th>\n",
       "      <th>title_Zombieland</th>\n",
       "      <th>title_Zookeeper</th>\n",
       "      <th>title_Zootopia</th>\n",
       "      <th>title_Zyzzyx Road</th>\n",
       "      <th>title_[REC]</th>\n",
       "      <th>title_[REC]²</th>\n",
       "      <th>title_[REC]⁴ Apocalypse</th>\n",
       "      <th>title_¿Quién mató a Bambi?</th>\n",
       "      <th>title_А поутру они проснулись</th>\n",
       "      <th>title_Королёв</th>\n",
       "    </tr>\n",
       "  </thead>\n",
       "  <tbody>\n",
       "    <tr>\n",
       "      <th>0</th>\n",
       "      <td>0.036842</td>\n",
       "      <td>0.02234</td>\n",
       "      <td>0.275148</td>\n",
       "      <td>12314651</td>\n",
       "      <td>0.0</td>\n",
       "      <td>0.0</td>\n",
       "      <td>0.0</td>\n",
       "      <td>0.0</td>\n",
       "      <td>0.0</td>\n",
       "      <td>0.0</td>\n",
       "      <td>...</td>\n",
       "      <td>0.0</td>\n",
       "      <td>0.0</td>\n",
       "      <td>0.0</td>\n",
       "      <td>0.0</td>\n",
       "      <td>0.0</td>\n",
       "      <td>0.0</td>\n",
       "      <td>0.0</td>\n",
       "      <td>0.0</td>\n",
       "      <td>0.0</td>\n",
       "      <td>0.0</td>\n",
       "    </tr>\n",
       "  </tbody>\n",
       "</table>\n",
       "<p>1 rows × 15200 columns</p>\n",
       "</div>"
      ],
      "text/plain": [
       "     budget  popularity   runtime   revenue  \\\n",
       "0  0.036842     0.02234  0.275148  12314651   \n",
       "\n",
       "   belongs_to_collection_  12 Rounds Collection  \\\n",
       "0                                           0.0   \n",
       "\n",
       "   belongs_to_collection_  2 Days In... Collection  \\\n",
       "0                                              0.0   \n",
       "\n",
       "   belongs_to_collection_  28 Days/Weeks Later Collection  \\\n",
       "0                                                0.0        \n",
       "\n",
       "   belongs_to_collection_  300 Collection  \\\n",
       "0                                     0.0   \n",
       "\n",
       "   belongs_to_collection_  48 Hrs. Collection  \\\n",
       "0                                         0.0   \n",
       "\n",
       "   belongs_to_collection_  8MM Collection  ...  title_Zombieland  \\\n",
       "0                                     0.0  ...               0.0   \n",
       "\n",
       "   title_Zookeeper  title_Zootopia  title_Zyzzyx Road  title_[REC]  \\\n",
       "0              0.0             0.0                0.0          0.0   \n",
       "\n",
       "   title_[REC]²  title_[REC]⁴ Apocalypse  title_¿Quién mató a Bambi?  \\\n",
       "0           0.0                      0.0                         0.0   \n",
       "\n",
       "   title_А поутру они проснулись  title_Королёв  \n",
       "0                            0.0            0.0  \n",
       "\n",
       "[1 rows x 15200 columns]"
      ]
     },
     "execution_count": 68,
     "metadata": {},
     "output_type": "execute_result"
    }
   ],
   "source": [
    "df.head(1)"
   ]
  },
  {
   "cell_type": "code",
   "execution_count": 69,
   "id": "fe72d584",
   "metadata": {},
   "outputs": [],
   "source": [
    "X = np.array(df.drop(['revenue'], axis=1))\n",
    "y = np.array(df['revenue'])"
   ]
  },
  {
   "cell_type": "code",
   "execution_count": 70,
   "id": "ebff5e3f",
   "metadata": {},
   "outputs": [],
   "source": [
    "x_train, x_test, y_train, y_test = train_test_split(X, y, random_state=15 ,test_size=0.3)"
   ]
  },
  {
   "cell_type": "markdown",
   "id": "10048aed",
   "metadata": {},
   "source": [
    "<h1>Model Building</h1>"
   ]
  },
  {
   "cell_type": "code",
   "execution_count": 71,
   "id": "626bdc3a",
   "metadata": {},
   "outputs": [],
   "source": [
    "def mae(y_true, y_pred):\n",
    "    return np.mean(abs(y_true - y_pred))\n",
    "\n",
    "def fit_and_evaluate(model):\n",
    "    \n",
    "    model.fit(x_train, y_train)\n",
    "    \n",
    "    model_pred = model.predict(x_test)\n",
    "    model_mae = mae(y_test, model_pred)\n",
    "    \n",
    "    return model_mae"
   ]
  },
  {
   "cell_type": "code",
   "execution_count": 72,
   "id": "4f9428c6",
   "metadata": {},
   "outputs": [],
   "source": [
    "from sklearn.linear_model import LinearRegression\n",
    "import lightgbm as lgb\n",
    "from sklearn.ensemble import RandomForestRegressor, GradientBoostingRegressor\n",
    "from sklearn.svm import SVR\n",
    "from sklearn.neighbors import KNeighborsRegressor\n",
    "from sklearn.model_selection import RandomizedSearchCV"
   ]
  },
  {
   "cell_type": "code",
   "execution_count": 73,
   "id": "f39aae99",
   "metadata": {},
   "outputs": [
    {
     "name": "stdout",
     "output_type": "stream",
     "text": [
      "K-Nearest Neighbors Regression   : MAE = 58469232.7736\n",
      "Gradient Boosting Regression     : MAE = 39730159.0171\n",
      "Random Forest Regression         : MAE = 36652439.5291\n",
      "Light Boosted Regression         : MAE = 41105430.5949\n",
      "Linear Regression Performance    : MAE = 44098628.6957\n"
     ]
    }
   ],
   "source": [
    "lr = LinearRegression()\n",
    "lr_mae = fit_and_evaluate(lr)\n",
    "\n",
    "lg = lgb.LGBMRegressor()\n",
    "lg_mae = fit_and_evaluate(lg)\n",
    "\n",
    "random_forest = RandomForestRegressor(random_state=12)\n",
    "random_forest_mae = fit_and_evaluate(random_forest)\n",
    "\n",
    "gradient_boosted = GradientBoostingRegressor(random_state=12)\n",
    "gradient_boosted_mae = fit_and_evaluate(gradient_boosted)\n",
    "\n",
    "knn = KNeighborsRegressor(n_neighbors=1000)\n",
    "knn_mae = fit_and_evaluate(knn)\n",
    "\n",
    "print('K-Nearest Neighbors Regression   : MAE = %0.4f' %knn_mae)\n",
    "\n",
    "print('Gradient Boosting Regression     : MAE = %0.4f' %gradient_boosted_mae)\n",
    "\n",
    "print('Random Forest Regression         : MAE = %0.4f' %random_forest_mae)\n",
    "\n",
    "print('Light Boosted Regression         : MAE = %0.4f' %lg_mae)\n",
    "\n",
    "print('Linear Regression Performance    : MAE = %0.4f' %lr_mae)"
   ]
  },
  {
   "cell_type": "code",
   "execution_count": 74,
   "id": "54c9f177",
   "metadata": {},
   "outputs": [
    {
     "data": {
      "text/plain": [
       "Text(0.5, 1.0, 'Model Comparison on Test MAE')"
      ]
     },
     "execution_count": 74,
     "metadata": {},
     "output_type": "execute_result"
    },
    {
     "data": {
      "image/png": "[encoded data removed]",
      "text/plain": [
       "<Figure size 576x432 with 1 Axes>"
      ]
     },
     "metadata": {},
     "output_type": "display_data"
    }
   ],
   "source": [
    "import matplotlib.pyplot as plt\n",
    "%matplotlib inline\n",
    "\n",
    "plt.rcParams['font.size'] = 24\n",
    "from IPython.core.pylabtools import figsize\n",
    "figsize(8, 8)\n",
    "\n",
    "plt.style.use('fivethirtyeight')\n",
    "figsize(8,6)\n",
    "\n",
    "model_comparison = pd.DataFrame({'model': ['Linear Regression', 'Light Boosting', \n",
    "                                 'Random Forest', 'Gradient Boosting', 'K-Nearest Neighbors'],\n",
    "                                'mae': [lr_mae, lg_mae, random_forest_mae, gradient_boosted_mae, knn_mae]})\n",
    "\n",
    "model_comparison.sort_values('mae', ascending = False).plot(x = 'model', y = 'mae', kind = 'barh', color = 'red',\n",
    "                                                           edgecolor = 'red')\n",
    "\n",
    "#PLOT FORMATTING\n",
    "plt.ylabel(''); plt.yticks(size = 14); plt.xlabel('Mean Absolute Error'); plt.xticks(size = 14)\n",
    "plt.title('Model Comparison on Test MAE', size = 30)"
   ]
  },
  {
   "cell_type": "markdown",
   "id": "d5ed0a62",
   "metadata": {},
   "source": [
    "<h3>Random Forest Regressor</h3>"
   ]
  },
  {
   "cell_type": "code",
   "execution_count": 75,
   "id": "1db7066b",
   "metadata": {},
   "outputs": [
    {
     "name": "stdout",
     "output_type": "stream",
     "text": [
      "Final Model Performance: MAE = 36652439.5291\n"
     ]
    }
   ],
   "source": [
    "model_1 = RandomForestRegressor(random_state=12)\n",
    "\n",
    "model_1.fit(x_train, y_train)\n",
    "\n",
    "prediction_1 = model_1.predict(x_test)\n",
    "\n",
    "print('Final Model Performance: MAE = %0.4f' % mae(y_test, prediction_1))"
   ]
  },
  {
   "cell_type": "markdown",
   "id": "c7cc1f61",
   "metadata": {},
   "source": [
    "<h6>Prediction Example</h6>"
   ]
  },
  {
   "cell_type": "code",
   "execution_count": 76,
   "id": "1a10fc47",
   "metadata": {},
   "outputs": [
    {
     "data": {
      "text/plain": [
       "array([0.01786316, 0.02677546, 0.30473373, ..., 0.        , 0.        ,\n",
       "       0.        ])"
      ]
     },
     "execution_count": 76,
     "metadata": {},
     "output_type": "execute_result"
    }
   ],
   "source": [
    "# Test Data\n",
    "\n",
    "x_test[20]"
   ]
  },
  {
   "cell_type": "code",
   "execution_count": 77,
   "id": "b666eff0",
   "metadata": {},
   "outputs": [
    {
     "data": {
      "text/plain": [
       "13878334"
      ]
     },
     "execution_count": 77,
     "metadata": {},
     "output_type": "execute_result"
    }
   ],
   "source": [
    "# Actual Data\n",
    "\n",
    "y_test[20]"
   ]
  },
  {
   "cell_type": "code",
   "execution_count": 78,
   "id": "3ce63750",
   "metadata": {},
   "outputs": [
    {
     "data": {
      "text/plain": [
       "array([7960531.16])"
      ]
     },
     "execution_count": 78,
     "metadata": {},
     "output_type": "execute_result"
    }
   ],
   "source": [
    "# Model Prediction\n",
    "\n",
    "model_1.predict(x_test[20].reshape(1,-1))"
   ]
  },
  {
   "cell_type": "markdown",
   "id": "72c69395",
   "metadata": {},
   "source": [
    "<h6>Test Set vs Prediction Set</h6>"
   ]
  },
  {
   "cell_type": "code",
   "execution_count": 79,
   "id": "01930615",
   "metadata": {},
   "outputs": [
    {
     "data": {
      "text/plain": [
       "Text(0.5, 1.0, 'RF: Test Values and Predictions')"
      ]
     },
     "execution_count": 79,
     "metadata": {},
     "output_type": "execute_result"
    },
    {
     "data": {
      "image/png": "[encoded data removed]",
      "text/plain": [
       "<Figure size 576x360 with 1 Axes>"
      ]
     },
     "metadata": {},
     "output_type": "display_data"
    }
   ],
   "source": [
    "import seaborn as sns\n",
    "figsize(8, 5)\n",
    "\n",
    "# Density plot of the final predictions and the test values\n",
    "sns.distributions._has_statsmodels = False\n",
    "sns.kdeplot(y_test, label = 'Values')\n",
    "sns.kdeplot(prediction_1, label = 'Predictions')\n",
    "\n",
    "# Label the plot\n",
    "plt.xlabel('Target'); plt.ylabel('Density');\n",
    "plt.xlabel('Predictions'); plt.ylabel('Density');\n",
    "plt.title('RF: Test Values and Predictions')"
   ]
  },
  {
   "cell_type": "markdown",
   "id": "9fc46f66",
   "metadata": {},
   "source": [
    "<h3>Cross Validation</h3>"
   ]
  },
  {
   "cell_type": "code",
   "execution_count": 80,
   "id": "883c285e",
   "metadata": {},
   "outputs": [
    {
     "name": "stdout",
     "output_type": "stream",
     "text": [
      "Range is: 10\n",
      "Cross Validation Performance: MAE = 37455555.5668\n",
      "Random Forest Performance: MAE = 36652439.5291\n"
     ]
    }
   ],
   "source": [
    "#Cross Validation\n",
    "\n",
    "X = np.array(df.drop(['revenue'], axis=1))\n",
    "y = np.array(df['revenue'])\n",
    "\n",
    "X = pd.DataFrame(X)\n",
    "y = pd.DataFrame(y)\n",
    "\n",
    "from sklearn.model_selection import KFold\n",
    "KFold\n",
    "\n",
    "kf = KFold(n_splits = 10, shuffle = True)\n",
    "model_2 = RandomForestRegressor(random_state=12, min_samples_leaf=2)\n",
    "\n",
    "scores = []\n",
    "for i in range(10):\n",
    "    result = next(kf.split(df, None))\n",
    "    x_train_1 = X.iloc[result[0]]\n",
    "    x_test_1 = X.iloc[result[1]]\n",
    "    y_train_1 = y.iloc[result[0]]\n",
    "    y_test_1 = y.iloc[result[1]]\n",
    "    \n",
    "    y_test_1 = np.array(y_test_1)\n",
    "    y_test_1 = y_test_1.reshape(-1, )\n",
    "    \n",
    "    model_2.fit(x_train_1, y_train_1)\n",
    "    \n",
    "    prediction_2 = model_2.predict(x_test_1)\n",
    "    \n",
    "    def mae(y_test_1, prediction_2):\n",
    "        return np.mean(abs(y_test_1 - prediction_2))\n",
    "    \n",
    "    scores.append(mae(y_test_1, prediction_2))  \n",
    "\n",
    "print('Range is:', 10)\n",
    "\n",
    "print('Cross Validation Performance: MAE = %0.4f' % np.mean(scores))\n",
    "print('Random Forest Performance: MAE = %0.4f' % mae(y_test, prediction_1))"
   ]
  },
  {
   "cell_type": "code",
   "execution_count": 88,
   "id": "1b5a3238",
   "metadata": {},
   "outputs": [
    {
     "data": {
      "image/png": "[encoded data removed]",
      "text/plain": [
       "<Figure size 576x360 with 1 Axes>"
      ]
     },
     "metadata": {},
     "output_type": "display_data"
    }
   ],
   "source": [
    "import seaborn as sns\n",
    "figsize(8, 5)\n",
    "\n",
    "# Density plot of the final predictions and the test values\n",
    "sns.kdeplot(y_test_1, label = 'Values', color=\"Red\")\n",
    "sns.kdeplot(prediction_2, label = 'CV_Pred', color=\"Yellow\")\n",
    "\n",
    "# Label the plot\n",
    "plt.xlabel('Target'); plt.ylabel('Density');\n",
    "plt.xlabel('Predictions'); plt.ylabel('Density');\n",
    "plt.title('Test Values vs Predictions');"
   ]
  },
  {
   "cell_type": "markdown",
   "id": "932a256c",
   "metadata": {},
   "source": [
    "<h3>Exporting Model</h3>"
   ]
  },
  {
   "cell_type": "code",
   "execution_count": 89,
   "id": "9fd1d06c",
   "metadata": {},
   "outputs": [
    {
     "data": {
      "text/plain": [
       "['Model/Model-columns.sav']"
      ]
     },
     "execution_count": 89,
     "metadata": {},
     "output_type": "execute_result"
    }
   ],
   "source": [
    "#Exporting Model\n",
    "\n",
    "import joblib\n",
    "\n",
    "filename = 'Model/Forecasting-model.sav'\n",
    "joblib.dump(model_2, filename)\n",
    "\n",
    "filename = 'Model/Model-columns.sav'\n",
    "joblib.dump(Columns, filename)"
   ]
  },
  {
   "cell_type": "code",
   "execution_count": null,
   "id": "5fb04c39",
   "metadata": {},
   "outputs": [],
   "source": []
  }
 ],
 "metadata": {
  "kernelspec": {
   "display_name": "Python 3 (ipykernel)",
   "language": "python",
   "name": "python3"
  },
  "language_info": {
   "codemirror_mode": {
    "name": "ipython",
    "version": 3
   },
   "file_extension": ".py",
   "mimetype": "text/x-python",
   "name": "python",
   "nbconvert_exporter": "python",
   "pygments_lexer": "ipython3",
   "version": "3.7.3"
  }
 },
 "nbformat": 4,
 "nbformat_minor": 5
}
